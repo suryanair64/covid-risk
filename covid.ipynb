{
 "cells": [
  {
   "cell_type": "code",
   "execution_count": 1,
   "id": "0829e395",
   "metadata": {},
   "outputs": [],
   "source": [
    "import streamlit as st\n",
    "import pandas as pd\n",
    "import numpy as np\n",
    "import plotly.express as px\n",
    "from plotly.subplots import make_subplots\n",
    "import plotly.graph_objects as go\n",
    "import matplotlib.pyplot as plt\n",
    "import seaborn as sns\n",
    "import pickle"
   ]
  },
  {
   "cell_type": "code",
   "execution_count": 2,
   "id": "ddc6da62",
   "metadata": {},
   "outputs": [
    {
     "name": "stderr",
     "output_type": "stream",
     "text": [
      "2021-07-02 12:40:14.871 \n",
      "  \u001b[33m\u001b[1mWarning:\u001b[0m to view this Streamlit app on a browser, run it with the following\n",
      "  command:\n",
      "\n",
      "    streamlit run /home/user/.local/lib/python3.6/site-packages/ipykernel_launcher.py [ARGUMENTS]\n"
     ]
    },
    {
     "data": {
      "text/plain": [
       "DeltaGenerator(_root_container=0, _provided_cursor=None, _parent=None, _block_type=None, _form_data=None)"
      ]
     },
     "execution_count": 2,
     "metadata": {},
     "output_type": "execute_result"
    }
   ],
   "source": [
    "st.title(\"Covid Risk Prediction\")"
   ]
  },
  {
   "cell_type": "code",
   "execution_count": 3,
   "id": "8985b123",
   "metadata": {},
   "outputs": [],
   "source": [
    "pickle_in = open('logisticRegr.pkl', 'rb')\n",
    "classifier = pickle.load(pickle_in)"
   ]
  },
  {
   "cell_type": "code",
   "execution_count": 4,
   "id": "949927dc",
   "metadata": {},
   "outputs": [],
   "source": [
    "Name = st.text_input(\"Name:\")\n",
    "Age= st.number_input(\"Age(ABOVE 18):\")\n",
    "Sex= st.text_input(\"Sex(MALE 1 & FEMALE 0):\")\n",
    "BMI=st.number_input(\"BMI:\")\n",
    "st.header(\"CLINICAL INFORMATION\")\n",
    "st.write(\"TYPE 1 IF YOU ARE CURRENTLY SUFFERING FROM ANY OF THESE CORMOBIDITIES \")\n",
    "Diabetes=st.number_input(\"Diabetes:\")\n",
    "Cardio_Vascular_Diseases=st.number_input(\"Cardio Vascular Diseases:\")\n",
    "Sickle_cell_diesases=st.number_input(\"Sickle cell diesases:\")\n",
    "Immuno_deficiency_diseases=st.number_input(\"Immuno deficiency diseases:\")\n",
    "Down_syndrome=st.number_input(\"Down syndrome:\")\n",
    "Cancer=st.number_input(\"Cancer:\")\n",
    "Chronic_Respiratory_disease=st.number_input(\"Chronic Respiratory disease:\")\n",
    "Hypertension=st.number_input(\"Hypertension:\")\n",
    "st.header(\"VACCINATION STATUS\")\n",
    "st.write(\"TYPE 1 IF YOU HAVE NOT VACCINATED\")\n",
    "Vaccinated=st.number_input(\"Not Vaccinated:\")\n",
    "submit = st.button(\"Predict Risk\")"
   ]
  },
  {
   "cell_type": "code",
   "execution_count": 5,
   "id": "e6725702",
   "metadata": {},
   "outputs": [],
   "source": [
    "if submit:\n",
    "        prediction = classifier.predict([[Age,Sex,BMI,Diabetes,Cardio_Vascular_Diseases,Sickle_cell_diesases,Immuno_deficiency_diseases,Down_syndrome,Cancer,Chronic_Respiratory_disease,Hypertension,Vaccinated]])\n",
    "        if prediction == 0:\n",
    "            st.write(Name,'You are under Low risk of affecting Corona.Recommended preventive measures include social distancing, wearing face masks in public, ventilation and air-filtering, hand washing,covering mouth when sneezing or coughing, disinfecting surfaces, and monitoring and self-isolation for people exposed or symptomatic')\n",
    "        else:\n",
    "            st.write(Name,\" we are really sorry to say but it seems like You are under High risk of affecting Corona. Recommended preventive measures include social distancing, wearing face masks in public, ventilation and air-filtering, hand washing,covering mouth when sneezing or coughing, disinfecting surfaces, and monitoring and self-isolation for people exposed or symptomatic\")\n"
   ]
  }
 ],
 "metadata": {
  "kernelspec": {
   "display_name": "Python 3",
   "language": "python",
   "name": "python3"
  },
  "language_info": {
   "codemirror_mode": {
    "name": "ipython",
    "version": 3
   },
   "file_extension": ".py",
   "mimetype": "text/x-python",
   "name": "python",
   "nbconvert_exporter": "python",
   "pygments_lexer": "ipython3",
   "version": "3.6.9"
  }
 },
 "nbformat": 4,
 "nbformat_minor": 5
}
